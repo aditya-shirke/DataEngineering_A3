{
 "cells": [
  {
   "cell_type": "code",
   "execution_count": 1,
   "id": "physical-creativity",
   "metadata": {},
   "outputs": [
    {
     "data": {
      "text/html": [
       "<style>.container { width:100% !important; }</style>"
      ],
      "text/plain": [
       "<IPython.core.display.HTML object>"
      ]
     },
     "metadata": {},
     "output_type": "display_data"
    }
   ],
   "source": [
    "from pyspark.sql import SparkSession\n",
    "from pyspark.sql.types import *\n",
    "import pandas\n",
    "import matplotlib\n",
    "from IPython.core.display import display, HTML\n",
    "display(HTML(\"<style>.container { width:100% !important; }</style>\"))\n",
    "\n",
    "\n",
    "spark_session = SparkSession\\\n",
    "        .builder\\\n",
    "        .master(\"spark://192.168.2.113:7077\") \\\n",
    "        .appName(\"AdityaShirke_B\")\\\n",
    "        .config(\"spark.dynamicAllocation.enabled\", True)\\\n",
    "        .config(\"spark.shuffle.service.enabled\", True)\\\n",
    "        .config(\"spark.dynamicAllocation.executorIdleTimeout\",\"30s\")\\\n",
    "        .config(\"spark.executor.cores\",2)\\\n",
    "        .config(\"spark.cores.max\",4)\\\n",
    "        .config(\"spark.driver.port\",9998)\\\n",
    "        .config(\"spark.blockManager.port\",10005)\\\n",
    "        .getOrCreate()"
   ]
  },
  {
   "cell_type": "code",
   "execution_count": 2,
   "id": "digital-asset",
   "metadata": {},
   "outputs": [
    {
     "data": {
      "text/plain": [
       "[Row(Ticket number='1103341116', Issue Date='2015-12-21T00:00:00', Issue time='1251', Meter Id=None, Marked Time=None, RP State Plate='CA', Plate Expiry Date='200304', VIN=None, Make='HOND', Body Style='PA', Color='GY', Location='13147 WELBY WAY', Route='01521', Agency='1', Violation code='4000A1', Violation Description='NO EVIDENCE OF REG', Fine amount='50', Latitude='99999', Longitude='99999'),\n",
       " Row(Ticket number='1103700150', Issue Date='2015-12-21T00:00:00', Issue time='1435', Meter Id=None, Marked Time=None, RP State Plate='CA', Plate Expiry Date='201512', VIN=None, Make='GMC', Body Style='VN', Color='WH', Location='525 S MAIN ST', Route='1C51', Agency='1', Violation code='4000A1', Violation Description='NO EVIDENCE OF REG', Fine amount='50', Latitude='99999', Longitude='99999'),\n",
       " Row(Ticket number='1104803000', Issue Date='2015-12-21T00:00:00', Issue time='2055', Meter Id=None, Marked Time=None, RP State Plate='CA', Plate Expiry Date='201503', VIN=None, Make='NISS', Body Style='PA', Color='BK', Location='200 WORLD WAY', Route='2R2', Agency='2', Violation code='8939', Violation Description='WHITE CURB', Fine amount='58', Latitude='6439997.9', Longitude='1802686.4'),\n",
       " Row(Ticket number='1104820732', Issue Date='2015-12-26T00:00:00', Issue time='1515', Meter Id=None, Marked Time=None, RP State Plate='CA', Plate Expiry Date=None, VIN=None, Make='ACUR', Body Style='PA', Color='WH', Location='100 WORLD WAY', Route='2F11', Agency='2', Violation code='000', Violation Description='17104h', Fine amount=None, Latitude='6440041.1', Longitude='1802686.2'),\n",
       " Row(Ticket number='1105461453', Issue Date='2015-09-15T00:00:00', Issue time='115', Meter Id=None, Marked Time=None, RP State Plate='CA', Plate Expiry Date='200316', VIN=None, Make='CHEV', Body Style='PA', Color='BK', Location='GEORGIA ST/OLYMPIC', Route='1FB70', Agency='1', Violation code='8069A', Violation Description='NO STOPPING/STANDING', Fine amount='93', Latitude='99999', Longitude='99999'),\n",
       " Row(Ticket number='1106226590', Issue Date='2015-09-15T00:00:00', Issue time='19', Meter Id=None, Marked Time=None, RP State Plate='CA', Plate Expiry Date='201507', VIN=None, Make='CHEV', Body Style='VN', Color='GY', Location='SAN PEDRO S/O BOYD', Route='1A35W', Agency='1', Violation code='4000A1', Violation Description='NO EVIDENCE OF REG', Fine amount='50', Latitude='99999', Longitude='99999'),\n",
       " Row(Ticket number='1106500452', Issue Date='2015-12-17T00:00:00', Issue time='1710', Meter Id=None, Marked Time=None, RP State Plate='CA', Plate Expiry Date='201605', VIN=None, Make='MAZD', Body Style='PA', Color='BL', Location='SUNSET/ALVARADO', Route='00217', Agency='1', Violation code='8070', Violation Description='PARK IN GRID LOCK ZN', Fine amount='163', Latitude='99999', Longitude='99999'),\n",
       " Row(Ticket number='1106500463', Issue Date='2015-12-17T00:00:00', Issue time='1710', Meter Id=None, Marked Time=None, RP State Plate='CA', Plate Expiry Date='201602', VIN=None, Make='TOYO', Body Style='PA', Color='BK', Location='SUNSET/ALVARADO', Route='00217', Agency='1', Violation code='8070', Violation Description='PARK IN GRID LOCK ZN', Fine amount='163', Latitude='99999', Longitude='99999'),\n",
       " Row(Ticket number='1106506402', Issue Date='2015-12-22T00:00:00', Issue time='945', Meter Id=None, Marked Time=None, RP State Plate='CA', Plate Expiry Date='201605', VIN=None, Make='CHEV', Body Style='PA', Color='BR', Location='721 S WESTLAKE', Route='2A75', Agency='1', Violation code='8069AA', Violation Description='NO STOP/STAND AM', Fine amount='93', Latitude='99999', Longitude='99999'),\n",
       " Row(Ticket number='1106506413', Issue Date='2015-12-22T00:00:00', Issue time='1100', Meter Id=None, Marked Time=None, RP State Plate='CA', Plate Expiry Date='201701', VIN=None, Make='NISS', Body Style='PA', Color='SI', Location='1159 HUNTLEY DR', Route='2A75', Agency='1', Violation code='8069AA', Violation Description='NO STOP/STAND AM', Fine amount='93', Latitude='99999', Longitude='99999')]"
      ]
     },
     "execution_count": 2,
     "metadata": {},
     "output_type": "execute_result"
    }
   ],
   "source": [
    "#B.1 Load the CSV file from HDFS, and call show() to verify the data is loaded correctly.\n",
    "citations = spark_session.read.csv(\"hdfs://192.168.2.113:9000/parking-citations.csv\", header = True, sep = \",\")\n",
    "citations.take(10)"
   ]
  },
  {
   "cell_type": "code",
   "execution_count": 3,
   "id": "narrow-marathon",
   "metadata": {},
   "outputs": [
    {
     "name": "stdout",
     "output_type": "stream",
     "text": [
      "+-------------+-------------------+----------+--------+-----------+--------------+-----------------+----+----+----------+-----+--------------------+-----+------+--------------+---------------------+-----------+---------+---------+\n",
      "|Ticket number|         Issue Date|Issue time|Meter Id|Marked Time|RP State Plate|Plate Expiry Date| VIN|Make|Body Style|Color|            Location|Route|Agency|Violation code|Violation Description|Fine amount| Latitude|Longitude|\n",
      "+-------------+-------------------+----------+--------+-----------+--------------+-----------------+----+----+----------+-----+--------------------+-----+------+--------------+---------------------+-----------+---------+---------+\n",
      "|   1103341116|2015-12-21T00:00:00|      1251|    null|       null|            CA|           200304|null|HOND|        PA|   GY|     13147 WELBY WAY|01521|     1|        4000A1|   NO EVIDENCE OF REG|         50|    99999|    99999|\n",
      "|   1103700150|2015-12-21T00:00:00|      1435|    null|       null|            CA|           201512|null| GMC|        VN|   WH|       525 S MAIN ST| 1C51|     1|        4000A1|   NO EVIDENCE OF REG|         50|    99999|    99999|\n",
      "|   1104803000|2015-12-21T00:00:00|      2055|    null|       null|            CA|           201503|null|NISS|        PA|   BK|       200 WORLD WAY|  2R2|     2|          8939|           WHITE CURB|         58|6439997.9|1802686.4|\n",
      "|   1104820732|2015-12-26T00:00:00|      1515|    null|       null|            CA|             null|null|ACUR|        PA|   WH|       100 WORLD WAY| 2F11|     2|           000|               17104h|       null|6440041.1|1802686.2|\n",
      "|   1105461453|2015-09-15T00:00:00|       115|    null|       null|            CA|           200316|null|CHEV|        PA|   BK|  GEORGIA ST/OLYMPIC|1FB70|     1|         8069A| NO STOPPING/STANDING|         93|    99999|    99999|\n",
      "|   1106226590|2015-09-15T00:00:00|        19|    null|       null|            CA|           201507|null|CHEV|        VN|   GY|  SAN PEDRO S/O BOYD|1A35W|     1|        4000A1|   NO EVIDENCE OF REG|         50|    99999|    99999|\n",
      "|   1106500452|2015-12-17T00:00:00|      1710|    null|       null|            CA|           201605|null|MAZD|        PA|   BL|     SUNSET/ALVARADO|00217|     1|          8070| PARK IN GRID LOCK ZN|        163|    99999|    99999|\n",
      "|   1106500463|2015-12-17T00:00:00|      1710|    null|       null|            CA|           201602|null|TOYO|        PA|   BK|     SUNSET/ALVARADO|00217|     1|          8070| PARK IN GRID LOCK ZN|        163|    99999|    99999|\n",
      "|   1106506402|2015-12-22T00:00:00|       945|    null|       null|            CA|           201605|null|CHEV|        PA|   BR|      721 S WESTLAKE| 2A75|     1|        8069AA|     NO STOP/STAND AM|         93|    99999|    99999|\n",
      "|   1106506413|2015-12-22T00:00:00|      1100|    null|       null|            CA|           201701|null|NISS|        PA|   SI|     1159 HUNTLEY DR| 2A75|     1|        8069AA|     NO STOP/STAND AM|         93|    99999|    99999|\n",
      "|   1106506424|2015-12-22T00:00:00|      1100|    null|       null|            CA|           201511|null|FORD|        TR|   WH|     1159 HUNTLEY DR| 2A75|     1|        8069AA|     NO STOP/STAND AM|         93|    99999|    99999|\n",
      "|   1106506435|2015-12-22T00:00:00|      1105|    null|       null|            CA|           201701|null|CHRY|        PA|   GO|     1159 HUNTLEY DR| 2A75|     1|        8069AA|     NO STOP/STAND AM|         93|    99999|    99999|\n",
      "|   1106506446|2015-12-22T00:00:00|      1110|    null|       null|            CA|           201511|null| BMW|        PA|   BK|      1200 W MIRAMAR| 2A75|     1|        4000A1|   NO EVIDENCE OF REG|         50|    99999|    99999|\n",
      "|   1106549754|2015-12-15T00:00:00|       825|    null|       null|            CA|           201607|null|PTRB|        TR|   BK|           4TH/STATE| CM96|     1|         8069A| NO STOPPING/STANDING|         93|    99999|    99999|\n",
      "|   1107179581|2015-12-27T00:00:00|      1055|    null|       null|            CA|           201605|null|TOYO|        PA|   BK|3100 N HOLLYRIDGE DR| null|    54|         8058L|         PREF PARKING|         68|    99999|    99999|\n",
      "|   1107179592|2015-12-27T00:00:00|      1200|    null|       null|            CA|           201602|null|MBNZ|        PA|   BK|   3115 N BERENDO DR| null|    54|         8058L|         PREF PARKING|         68|    99999|    99999|\n",
      "|   1107179603|2015-12-27T00:00:00|      1400|    null|       null|            CA|           201611|null|NISS|        PA|   WH| 3100 N BEACHWOOD DR| null|    54|         8058L|         PREF PARKING|         68|    99999|    99999|\n",
      "|   1107539823|2015-09-16T00:00:00|      2120|    null|       null|            CA|           201502|null|NISS|        PA| null|      BLAINE/11TH PL|1FB95|     1|        4000A1|   NO EVIDENCE OF REG|         50|    99999|    99999|\n",
      "|   1107539834|2015-09-16T00:00:00|      1045|    null|       null|            CA|             null|null|CHEV|        PA|   BK|  1246 S FIGUEROA ST| 1L20|     1|        8069AP|     NO STOP/STAND PM|         93|    99999|    99999|\n",
      "|   1107780811|2015-12-22T00:00:00|      1102|    null|       null|            CA|           201606|null|HOND|        PA|   BK|       PLATA/RAMPART|  2A1|     1|         8069B|           NO PARKING|         73|    99999|    99999|\n",
      "+-------------+-------------------+----------+--------+-----------+--------------+-----------------+----+----+----------+-----+--------------------+-----+------+--------------+---------------------+-----------+---------+---------+\n",
      "only showing top 20 rows\n",
      "\n"
     ]
    }
   ],
   "source": [
    "#B.2 Print the schema for the DataFrame.\n",
    "citations.show()"
   ]
  },
  {
   "cell_type": "code",
   "execution_count": 4,
   "id": "limiting-nature",
   "metadata": {},
   "outputs": [
    {
     "data": {
      "text/plain": [
       "9257460"
      ]
     },
     "execution_count": 4,
     "metadata": {},
     "output_type": "execute_result"
    }
   ],
   "source": [
    "#B.3 Count the number of rows in the CSV file.\n",
    "citations.count()"
   ]
  },
  {
   "cell_type": "code",
   "execution_count": 5,
   "id": "compatible-arcade",
   "metadata": {},
   "outputs": [
    {
     "data": {
      "text/plain": [
       "10"
      ]
     },
     "execution_count": 5,
     "metadata": {},
     "output_type": "execute_result"
    }
   ],
   "source": [
    "#B.4 Count the number of partitions in the underlying RDD.\n",
    "citations.rdd.getNumPartitions()"
   ]
  },
  {
   "cell_type": "code",
   "execution_count": 6,
   "id": "approximate-tablet",
   "metadata": {},
   "outputs": [
    {
     "name": "stdout",
     "output_type": "stream",
     "text": [
      "+-------------+-------------------+----------+--------+-----------+--------------+-----------------+----+----------+-----+--------------------+-----+------+--------------+---------------------+-----------+\n",
      "|Ticket number|         Issue Date|Issue time|Meter Id|Marked Time|RP State Plate|Plate Expiry Date|Make|Body Style|Color|            Location|Route|Agency|Violation code|Violation Description|Fine amount|\n",
      "+-------------+-------------------+----------+--------+-----------+--------------+-----------------+----+----------+-----+--------------------+-----+------+--------------+---------------------+-----------+\n",
      "|   1103341116|2015-12-21T00:00:00|      1251|    null|       null|            CA|           200304|HOND|        PA|   GY|     13147 WELBY WAY|01521|     1|        4000A1|   NO EVIDENCE OF REG|         50|\n",
      "|   1103700150|2015-12-21T00:00:00|      1435|    null|       null|            CA|           201512| GMC|        VN|   WH|       525 S MAIN ST| 1C51|     1|        4000A1|   NO EVIDENCE OF REG|         50|\n",
      "|   1104803000|2015-12-21T00:00:00|      2055|    null|       null|            CA|           201503|NISS|        PA|   BK|       200 WORLD WAY|  2R2|     2|          8939|           WHITE CURB|         58|\n",
      "|   1104820732|2015-12-26T00:00:00|      1515|    null|       null|            CA|             null|ACUR|        PA|   WH|       100 WORLD WAY| 2F11|     2|           000|               17104h|       null|\n",
      "|   1105461453|2015-09-15T00:00:00|       115|    null|       null|            CA|           200316|CHEV|        PA|   BK|  GEORGIA ST/OLYMPIC|1FB70|     1|         8069A| NO STOPPING/STANDING|         93|\n",
      "|   1106226590|2015-09-15T00:00:00|        19|    null|       null|            CA|           201507|CHEV|        VN|   GY|  SAN PEDRO S/O BOYD|1A35W|     1|        4000A1|   NO EVIDENCE OF REG|         50|\n",
      "|   1106500452|2015-12-17T00:00:00|      1710|    null|       null|            CA|           201605|MAZD|        PA|   BL|     SUNSET/ALVARADO|00217|     1|          8070| PARK IN GRID LOCK ZN|        163|\n",
      "|   1106500463|2015-12-17T00:00:00|      1710|    null|       null|            CA|           201602|TOYO|        PA|   BK|     SUNSET/ALVARADO|00217|     1|          8070| PARK IN GRID LOCK ZN|        163|\n",
      "|   1106506402|2015-12-22T00:00:00|       945|    null|       null|            CA|           201605|CHEV|        PA|   BR|      721 S WESTLAKE| 2A75|     1|        8069AA|     NO STOP/STAND AM|         93|\n",
      "|   1106506413|2015-12-22T00:00:00|      1100|    null|       null|            CA|           201701|NISS|        PA|   SI|     1159 HUNTLEY DR| 2A75|     1|        8069AA|     NO STOP/STAND AM|         93|\n",
      "|   1106506424|2015-12-22T00:00:00|      1100|    null|       null|            CA|           201511|FORD|        TR|   WH|     1159 HUNTLEY DR| 2A75|     1|        8069AA|     NO STOP/STAND AM|         93|\n",
      "|   1106506435|2015-12-22T00:00:00|      1105|    null|       null|            CA|           201701|CHRY|        PA|   GO|     1159 HUNTLEY DR| 2A75|     1|        8069AA|     NO STOP/STAND AM|         93|\n",
      "|   1106506446|2015-12-22T00:00:00|      1110|    null|       null|            CA|           201511| BMW|        PA|   BK|      1200 W MIRAMAR| 2A75|     1|        4000A1|   NO EVIDENCE OF REG|         50|\n",
      "|   1106549754|2015-12-15T00:00:00|       825|    null|       null|            CA|           201607|PTRB|        TR|   BK|           4TH/STATE| CM96|     1|         8069A| NO STOPPING/STANDING|         93|\n",
      "|   1107179581|2015-12-27T00:00:00|      1055|    null|       null|            CA|           201605|TOYO|        PA|   BK|3100 N HOLLYRIDGE DR| null|    54|         8058L|         PREF PARKING|         68|\n",
      "|   1107179592|2015-12-27T00:00:00|      1200|    null|       null|            CA|           201602|MBNZ|        PA|   BK|   3115 N BERENDO DR| null|    54|         8058L|         PREF PARKING|         68|\n",
      "|   1107179603|2015-12-27T00:00:00|      1400|    null|       null|            CA|           201611|NISS|        PA|   WH| 3100 N BEACHWOOD DR| null|    54|         8058L|         PREF PARKING|         68|\n",
      "|   1107539823|2015-09-16T00:00:00|      2120|    null|       null|            CA|           201502|NISS|        PA| null|      BLAINE/11TH PL|1FB95|     1|        4000A1|   NO EVIDENCE OF REG|         50|\n",
      "|   1107539834|2015-09-16T00:00:00|      1045|    null|       null|            CA|             null|CHEV|        PA|   BK|  1246 S FIGUEROA ST| 1L20|     1|        8069AP|     NO STOP/STAND PM|         93|\n",
      "|   1107780811|2015-12-22T00:00:00|      1102|    null|       null|            CA|           201606|HOND|        PA|   BK|       PLATA/RAMPART|  2A1|     1|         8069B|           NO PARKING|         73|\n",
      "+-------------+-------------------+----------+--------+-----------+--------------+-----------------+----+----------+-----+--------------------+-----+------+--------------+---------------------+-----------+\n",
      "only showing top 20 rows\n",
      "\n"
     ]
    }
   ],
   "source": [
    "#B.5 Drop the columns VIN, Latitude and Longitude.\n",
    "citations_new = citations.drop(\"VIN\", \"Latitude\", \"Longitude\")\n",
    "citations_new.show()\n",
    "\n",
    "#Another way\n",
    "#citations_new = citations.drop(citations.VIN).drop(citations.Latitude).drop(citations.Longitude)\n",
    "#citations_new.show()"
   ]
  },
  {
   "cell_type": "code",
   "execution_count": 7,
   "id": "hungarian-monaco",
   "metadata": {},
   "outputs": [
    {
     "name": "stdout",
     "output_type": "stream",
     "text": [
      "Maximum fine amount:  505.0\n",
      "+-----------+-----+\n",
      "|Fine amount|count|\n",
      "+-----------+-----+\n",
      "|      505.0|    6|\n",
      "+-----------+-----+\n",
      "\n"
     ]
    }
   ],
   "source": [
    "#B.6 Find the maximum fine amount. How many fines have this amount?\n",
    "citations_new_floatAmount = citations_new.withColumn(\"Fine amount\", citations_new['Fine amount'].cast('float'))\n",
    "\n",
    "max_float_amount = citations_new_floatAmount.agg({\"Fine amount\": \"max\"}).collect()[0]\n",
    "print(\"Maximum fine amount: \", max_float_amount[\"max(Fine amount)\"])\n",
    "\n",
    "fine_amounts_counts = citations_new_floatAmount.groupBy(\"Fine amount\").count()\n",
    "fines_with_max_amount = fine_amounts_counts.filter(fine_amounts_counts['Fine amount'] == max_float_amount[\"max(Fine amount)\"])\n",
    "fines_with_max_amount.show()\n"
   ]
  },
  {
   "cell_type": "code",
   "execution_count": 8,
   "id": "contrary-access",
   "metadata": {},
   "outputs": [
    {
     "name": "stdout",
     "output_type": "stream",
     "text": [
      "+----+-------+\n",
      "|Make|  count|\n",
      "+----+-------+\n",
      "|TOYT|1531949|\n",
      "|HOND|1043276|\n",
      "|FORD| 807498|\n",
      "|NISS| 662097|\n",
      "|CHEV| 631413|\n",
      "| BMW| 422916|\n",
      "|MERZ| 376830|\n",
      "|VOLK| 316002|\n",
      "|HYUN| 285286|\n",
      "|DODG| 271590|\n",
      "|LEXS| 263269|\n",
      "| KIA| 217795|\n",
      "|JEEP| 214965|\n",
      "|AUDI| 179718|\n",
      "|MAZD| 169811|\n",
      "|OTHR| 154376|\n",
      "| GMC| 132788|\n",
      "|INFI| 120340|\n",
      "|CHRY| 120317|\n",
      "|ACUR| 111265|\n",
      "+----+-------+\n",
      "only showing top 20 rows\n",
      "\n"
     ]
    }
   ],
   "source": [
    "#B.7 Show the top 20 most frequent vehicle makes, and their frequencies.\n",
    "#from pyspark.sql.functions import desc\n",
    "frquent_vehicle_make = citations_new_floatAmount.groupBy(\"Make\").count().orderBy(\"count\", ascending=0)\n",
    "frquent_vehicle_make.show(20)"
   ]
  },
  {
   "cell_type": "code",
   "execution_count": 9,
   "id": "quick-region",
   "metadata": {},
   "outputs": [
    {
     "name": "stdout",
     "output_type": "stream",
     "text": [
      "+-------------+-------------------+----------+--------+-----------+--------------+-----------------+----+----------+-----+------------------+-----+------+--------------+---------------------+-----------+----------+\n",
      "|Ticket number|         Issue Date|Issue time|Meter Id|Marked Time|RP State Plate|Plate Expiry Date|Make|Body Style|Color|          Location|Route|Agency|Violation code|Violation Description|Fine amount|color long|\n",
      "+-------------+-------------------+----------+--------+-----------+--------------+-----------------+----+----------+-----+------------------+-----+------+--------------+---------------------+-----------+----------+\n",
      "|   1103341116|2015-12-21T00:00:00|      1251|    null|       null|            CA|           200304|HOND|        PA|   GY|   13147 WELBY WAY|01521|     1|        4000A1|   NO EVIDENCE OF REG|       50.0|      Gray|\n",
      "|   1103700150|2015-12-21T00:00:00|      1435|    null|       null|            CA|           201512| GMC|        VN|   WH|     525 S MAIN ST| 1C51|     1|        4000A1|   NO EVIDENCE OF REG|       50.0|     White|\n",
      "|   1104803000|2015-12-21T00:00:00|      2055|    null|       null|            CA|           201503|NISS|        PA|   BK|     200 WORLD WAY|  2R2|     2|          8939|           WHITE CURB|       58.0|     Black|\n",
      "|   1104820732|2015-12-26T00:00:00|      1515|    null|       null|            CA|             null|ACUR|        PA|   WH|     100 WORLD WAY| 2F11|     2|           000|               17104h|       null|     White|\n",
      "|   1105461453|2015-09-15T00:00:00|       115|    null|       null|            CA|           200316|CHEV|        PA|   BK|GEORGIA ST/OLYMPIC|1FB70|     1|         8069A| NO STOPPING/STANDING|       93.0|     Black|\n",
      "|   1106226590|2015-09-15T00:00:00|        19|    null|       null|            CA|           201507|CHEV|        VN|   GY|SAN PEDRO S/O BOYD|1A35W|     1|        4000A1|   NO EVIDENCE OF REG|       50.0|      Gray|\n",
      "|   1106500452|2015-12-17T00:00:00|      1710|    null|       null|            CA|           201605|MAZD|        PA|   BL|   SUNSET/ALVARADO|00217|     1|          8070| PARK IN GRID LOCK ZN|      163.0|      Blue|\n",
      "|   1106500463|2015-12-17T00:00:00|      1710|    null|       null|            CA|           201602|TOYO|        PA|   BK|   SUNSET/ALVARADO|00217|     1|          8070| PARK IN GRID LOCK ZN|      163.0|     Black|\n",
      "|   1106506402|2015-12-22T00:00:00|       945|    null|       null|            CA|           201605|CHEV|        PA|   BR|    721 S WESTLAKE| 2A75|     1|        8069AA|     NO STOP/STAND AM|       93.0|     Brown|\n",
      "|   1106506413|2015-12-22T00:00:00|      1100|    null|       null|            CA|           201701|NISS|        PA|   SI|   1159 HUNTLEY DR| 2A75|     1|        8069AA|     NO STOP/STAND AM|       93.0|    Silver|\n",
      "+-------------+-------------------+----------+--------+-----------+--------------+-----------------+----+----------+-----+------------------+-----+------+--------------+---------------------+-----------+----------+\n",
      "only showing top 10 rows\n",
      "\n"
     ]
    }
   ],
   "source": [
    "#B.8 Let’s expand some abbreviations in the color column. Create a User Defined Function to create a new column, ‘color long’, mapping the original colors to their corresponding values in the dictionary below. \n",
    "#If there is no key matching the original color, use the original color.\n",
    "\n",
    "COLORS = {\n",
    "'AL':'Aluminum', 'AM':'Amber', 'BG':'Beige', 'BK':'Black',\n",
    "'BL':'Blue', 'BN':'Brown', 'BR':'Brown', 'BZ':'Bronze',\n",
    "'CH':'Charcoal', 'DK':'Dark', 'GD':'Gold', 'GO':'Gold',\n",
    "'GN':'Green', 'GY':'Gray', 'GT':'Granite', 'IV':'Ivory',\n",
    "'LT':'Light', 'OL':'Olive', 'OR':'Orange', 'MR':'Maroon',\n",
    "'PK':'Pink', 'RD':'Red', 'RE':'Red', 'SI':'Silver', 'SL':'Silver',\n",
    "'SM':'Smoke', 'TN':'Tan', 'VT':'Violet', 'WT':'White',\n",
    "'WH':'White', 'YL':'Yellow', 'YE':'Yellow', 'UN':'Unknown'\n",
    "}\n",
    "\n",
    "#from pyspark.sql.types import StringType\n",
    "from pyspark.sql.functions import udf\n",
    "def translate(colors):\n",
    "    def translate_(mapped_color):\n",
    "        return_value = mapped_color\n",
    "        if (COLORS.get(mapped_color) is not None): #If there is no key matching the original color, use the original color.\n",
    "            return_value = COLORS.get(mapped_color)\n",
    "        return return_value\n",
    "    return udf(translate_, StringType())\n",
    "\n",
    "\n",
    "new_citations_color = citations_new_floatAmount.withColumn(\"color long\", translate(COLORS)(\"Color\"))\n",
    "new_citations_color.show(10)\n",
    "\n",
    "#new_citations_color.filter(new_citations_color['color long'] == 'null').show()\n",
    "\n"
   ]
  },
  {
   "cell_type": "code",
   "execution_count": 10,
   "id": "unnecessary-fault",
   "metadata": {},
   "outputs": [
    {
     "name": "stdout",
     "output_type": "stream",
     "text": [
      "+----+----------+------+\n",
      "|Make|color long| count|\n",
      "+----+----------+------+\n",
      "|TOYT|      Gray|346822|\n",
      "+----+----------+------+\n",
      "only showing top 1 row\n",
      "\n"
     ]
    },
    {
     "data": {
      "text/plain": [
       "'Gray'"
      ]
     },
     "execution_count": 10,
     "metadata": {},
     "output_type": "execute_result"
    }
   ],
   "source": [
    "#B.9 Using this new column, what’s the most frequent colour value for Toyotas (TOYT)?\n",
    "filtered_toyt = new_citations_color.filter(new_citations_color['Make'] == \"TOYT\")\n",
    "most_frequent_color_toyt = filtered_toyt.groupBy('Make', 'color long').count().orderBy(\"count\", ascending=0)\n",
    "most_frequent_color_toyt.show(1)\n",
    "most_frequent_color_toyt.collect()[0][1]"
   ]
  }
 ],
 "metadata": {
  "kernelspec": {
   "display_name": "Python 3",
   "language": "python",
   "name": "python3"
  },
  "language_info": {
   "codemirror_mode": {
    "name": "ipython",
    "version": 3
   },
   "file_extension": ".py",
   "mimetype": "text/x-python",
   "name": "python",
   "nbconvert_exporter": "python",
   "pygments_lexer": "ipython3",
   "version": "3.8.5"
  }
 },
 "nbformat": 4,
 "nbformat_minor": 5
}
