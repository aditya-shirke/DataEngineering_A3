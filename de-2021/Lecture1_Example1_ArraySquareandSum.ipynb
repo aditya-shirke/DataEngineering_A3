{
 "cells": [
  {
   "cell_type": "code",
   "execution_count": 2,
   "id": "enormous-shaft",
   "metadata": {},
   "outputs": [
    {
     "data": {
      "text/html": [
       "<style>.container { width:100% !important; }</style>"
      ],
      "text/plain": [
       "<IPython.core.display.HTML object>"
      ]
     },
     "metadata": {},
     "output_type": "display_data"
    }
   ],
   "source": [
    "from pyspark.sql import SparkSession\n",
    "from pyspark.sql.types import *\n",
    "import pandas\n",
    "import matplotlib\n",
    "from IPython.core.display import display, HTML\n",
    "display(HTML(\"<style>.container { width:100% !important; }</style>\"))\n",
    "\n",
    "\n",
    "spark_session = SparkSession\\\n",
    "        .builder\\\n",
    "        .master(\"spark://192.168.2.113:7077\") \\\n",
    "        .appName(\"AdityaShirke_A\")\\\n",
    "        .config(\"spark.dynamicAllocation.enabled\", True)\\\n",
    "        .config(\"spark.shuffle.service.enabled\", True)\\\n",
    "        .config(\"spark.dynamicAllocation.executorIdleTimeout\",\"30s\")\\\n",
    "        .config(\"spark.executor.cores\",2)\\\n",
    "        .config(\"spark.driver.port\",9998)\\\n",
    "        .config(\"spark.blockManager.port\",10005)\\\n",
    "        .getOrCreate()"
   ]
  },
  {
   "cell_type": "code",
   "execution_count": 3,
   "id": "indoor-oxygen",
   "metadata": {},
   "outputs": [
    {
     "data": {
      "text/plain": [
       "1862234"
      ]
     },
     "execution_count": 3,
     "metadata": {},
     "output_type": "execute_result"
    }
   ],
   "source": [
    "sc = spark_session.sparkContext\n",
    "lines_sv_en_en = sc.textFile(\"hdfs://192.168.2.113:9000/europarl/europarl-v7.sv-en.en\")\n",
    "linecount_sv_en_en = lines_sv_en_en.count()\n",
    "linecount_sv_en_en"
   ]
  },
  {
   "cell_type": "code",
   "execution_count": 4,
   "id": "civic-measurement",
   "metadata": {},
   "outputs": [
    {
     "data": {
      "text/plain": [
       "1862234"
      ]
     },
     "execution_count": 4,
     "metadata": {},
     "output_type": "execute_result"
    }
   ],
   "source": [
    "lines_sv_en_sv = sc.textFile(\"hdfs://192.168.2.113:9000/europarl/europarl-v7.sv-en.sv\").cache()\n",
    "linecount_nl_en_sv = lines_sv_en_sv.count()\n",
    "linecount_nl_en_sv"
   ]
  },
  {
   "cell_type": "code",
   "execution_count": 5,
   "id": "pending-tsunami",
   "metadata": {},
   "outputs": [
    {
     "data": {
      "text/plain": [
       "2"
      ]
     },
     "execution_count": 5,
     "metadata": {},
     "output_type": "execute_result"
    }
   ],
   "source": [
    "lines_sv_en_en.getNumPartitions()"
   ]
  },
  {
   "cell_type": "code",
   "execution_count": 6,
   "id": "imposed-mississippi",
   "metadata": {},
   "outputs": [
    {
     "data": {
      "text/plain": [
       "3"
      ]
     },
     "execution_count": 6,
     "metadata": {},
     "output_type": "execute_result"
    }
   ],
   "source": [
    "lines_sv_en_sv.getNumPartitions()"
   ]
  },
  {
   "cell_type": "code",
   "execution_count": 7,
   "id": "printable-might",
   "metadata": {},
   "outputs": [
    {
     "data": {
      "text/plain": [
       "['Resumption of the session',\n",
       " 'I declare resumed the session of the European Parliament adjourned on Friday 17 December 1999, and I would like once again to wish you a happy new year in the hope that you enjoyed a pleasant festive period.',\n",
       " \"Although, as you will have seen, the dreaded 'millennium bug' failed to materialise, still the people in a number of countries suffered a series of natural disasters that truly were dreadful.\",\n",
       " 'You have requested a debate on this subject in the course of the next few days, during this part-session.',\n",
       " \"In the meantime, I should like to observe a minute' s silence, as a number of Members have requested, on behalf of all the victims concerned, particularly those of the terrible storms, in the various countries of the European Union.\",\n",
       " \"Please rise, then, for this minute' s silence.\",\n",
       " \"(The House rose and observed a minute' s silence)\",\n",
       " 'Madam President, on a point of order.',\n",
       " 'You will be aware from the press and television that there have been a number of bomb explosions and killings in Sri Lanka.',\n",
       " 'One of the people assassinated very recently in Sri Lanka was Mr Kumar Ponnambalam, who had visited the European Parliament just a few months ago.']"
      ]
     },
     "execution_count": 7,
     "metadata": {},
     "output_type": "execute_result"
    }
   ],
   "source": [
    "lines_sv_en_en.take(10)"
   ]
  },
  {
   "cell_type": "code",
   "execution_count": 8,
   "id": "informational-palestinian",
   "metadata": {},
   "outputs": [
    {
     "name": "stdout",
     "output_type": "stream",
     "text": [
      "[['resumption', 'of', 'the', 'session'], ['i', 'declare', 'resumed', 'the', 'session', 'of', 'the', 'european', 'parliament', 'adjourned', 'on', 'friday', '17', 'december', '1999,', 'and', 'i', 'would', 'like', 'once', 'again', 'to', 'wish', 'you', 'a', 'happy', 'new', 'year', 'in', 'the', 'hope', 'that', 'you', 'enjoyed', 'a', 'pleasant', 'festive', 'period.'], ['although,', 'as', 'you', 'will', 'have', 'seen,', 'the', 'dreaded', \"'millennium\", \"bug'\", 'failed', 'to', 'materialise,', 'still', 'the', 'people', 'in', 'a', 'number', 'of', 'countries', 'suffered', 'a', 'series', 'of', 'natural', 'disasters', 'that', 'truly', 'were', 'dreadful.'], ['you', 'have', 'requested', 'a', 'debate', 'on', 'this', 'subject', 'in', 'the', 'course', 'of', 'the', 'next', 'few', 'days,', 'during', 'this', 'part-session.'], ['in', 'the', 'meantime,', 'i', 'should', 'like', 'to', 'observe', 'a', \"minute'\", 's', 'silence,', 'as', 'a', 'number', 'of', 'members', 'have', 'requested,', 'on', 'behalf', 'of', 'all', 'the', 'victims', 'concerned,', 'particularly', 'those', 'of', 'the', 'terrible', 'storms,', 'in', 'the', 'various', 'countries', 'of', 'the', 'european', 'union.'], ['please', 'rise,', 'then,', 'for', 'this', \"minute'\", 's', 'silence.'], ['(the', 'house', 'rose', 'and', 'observed', 'a', \"minute'\", 's', 'silence)'], ['madam', 'president,', 'on', 'a', 'point', 'of', 'order.'], ['you', 'will', 'be', 'aware', 'from', 'the', 'press', 'and', 'television', 'that', 'there', 'have', 'been', 'a', 'number', 'of', 'bomb', 'explosions', 'and', 'killings', 'in', 'sri', 'lanka.'], ['one', 'of', 'the', 'people', 'assassinated', 'very', 'recently', 'in', 'sri', 'lanka', 'was', 'mr', 'kumar', 'ponnambalam,', 'who', 'had', 'visited', 'the', 'european', 'parliament', 'just', 'a', 'few', 'months', 'ago.']]\n",
      "1862234\n",
      "[['återupptagande', 'av', 'sessionen'], ['jag', 'förklarar', 'europaparlamentets', 'session', 'återupptagen', 'efter', 'avbrottet', 'den', '17', 'december.', 'jag', 'vill', 'på', 'nytt', 'önska', 'er', 'ett', 'gott', 'nytt', 'år', 'och', 'jag', 'hoppas', 'att', 'ni', 'haft', 'en', 'trevlig', 'semester.'], ['som', 'ni', 'kunnat', 'konstatera', 'ägde', '\"den', 'stora', 'år', '2000-buggen\"', 'aldrig', 'rum.', 'däremot', 'har', 'invånarna', 'i', 'ett', 'antal', 'av', 'våra', 'medlemsländer', 'drabbats', 'av', 'naturkatastrofer', 'som', 'verkligen', 'varit', 'förskräckliga.'], ['ni', 'har', 'begärt', 'en', 'debatt', 'i', 'ämnet', 'under', 'sammanträdesperiodens', 'kommande', 'dagar.'], ['till', 'dess', 'vill', 'jag', 'att', 'vi,', 'som', 'ett', 'antal', 'kolleger', 'begärt,', 'håller', 'en', 'tyst', 'minut', 'för', 'offren', 'för', 'bl.a.', 'stormarna', 'i', 'de', 'länder', 'i', 'europeiska', 'unionen', 'som', 'drabbats.'], ['jag', 'ber', 'er', 'resa', 'er', 'för', 'en', 'tyst', 'minut.'], ['(parlamentet', 'höll', 'en', 'tyst', 'minut.)'], ['fru', 'talman!', 'det', 'gäller', 'en', 'ordningsfråga.'], ['ni', 'känner', 'till', 'från', 'media', 'att', 'det', 'skett', 'en', 'rad', 'bombexplosioner', 'och', 'mord', 'i', 'sri', 'lanka.'], ['en', 'av', 'de', 'personer', 'som', 'mycket', 'nyligen', 'mördades', 'i', 'sri', 'lanka', 'var', 'kumar', 'ponnambalam,', 'som', 'besökte', 'europaparlamentet', 'för', 'bara', 'några', 'månader', 'sedan.']]\n",
      "1862234\n"
     ]
    }
   ],
   "source": [
    "#A2.1 function to Pre-process the text from both RDDs by doing the following: Lowercase the text and Tokenize the text (split on space)\n",
    "def lowercase_split(rdd):\n",
    "    return rdd.map(lambda line: line.lower().split(' '))\n",
    "\n",
    "preprocessed_text_sv_en_en = lowercase_split(lines_sv_en_en)\n",
    "print(preprocessed_text_sv_en_en.take(10))\n",
    "print(preprocessed_text_sv_en_en.count())\n",
    "\n",
    "preprocessed_text_sv_en_sv = lowercase_split(lines_sv_en_sv)\n",
    "print(preprocessed_text_sv_en_sv.take(10))\n",
    "print(preprocessed_text_sv_en_sv.count())"
   ]
  },
  {
   "cell_type": "code",
   "execution_count": 9,
   "id": "false-observer",
   "metadata": {},
   "outputs": [
    {
     "name": "stdout",
     "output_type": "stream",
     "text": [
      "[(1706328, 'att'), (1344865, 'och'), (1052440, 'i'), (942048, 'det'), (913312, 'som'), (912272, 'för'), (739577, 'av'), (696798, 'är'), (620508, 'en'), (540272, 'vi'), (514492, 'om'), (513971, 'de'), (510056, 'till'), (502907, 'jag'), (500877, 'den'), (482266, 'på'), (469207, 'har'), (426964, 'med'), (402917, 'inte'), (370117, 'ett'), (252522, 'detta'), (194851, 'kommer'), (193936, 'kan'), (181528, 'måste'), (148730, 'från'), (144093, 'europeiska'), (130340, 'vill'), (127621, 'så'), (125748, 'men'), (125226, 'också'), (124630, 'skulle'), (123821, 'när'), (123456, 'denna'), (119501, 'man'), (117352, 'herr'), (110630, 'kommissionen'), (110466, 'mycket'), (110462, 'alla'), (100930, 'sig'), (100210, 'dessa'), (93384, 'vara'), (93327, 'eller'), (89829, 'även'), (89100, 'andra'), (88969, 'gäller'), (80671, 'oss'), (80333, 'mot'), (80226, 'under'), (79907, 'därför'), (79281, 'här'), (79052, 'inom'), (77565, 'eu'), (75126, 'finns'), (74734, 'skall'), (73615, 'utan'), (69981, 'genom'), (67909, 'eftersom'), (67345, 'bara'), (67003, 'göra'), (65852, 'bör'), (64931, 'nu'), (63174, 'var'), (62454, 'mellan'), (61854, 'ni'), (61752, 'vad'), (60981, 'mer'), (59121, 'anser'), (57998, 'vid'), (57139, 'fråga'), (56572, 'där'), (54567, 'kunna'), (54420, 'än'), (54372, 'ska'), (53915, 'vilket'), (53222, 'fram'), (52905, 'parlamentet'), (52783, 'få'), (52345, 'allt'), (52313, 'över'), (52187, 'rådet'), (51349, 'våra'), (51264, 'ha'), (50637, 'upp'), (50463, 'unionen'), (50406, 'ta'), (49872, 'nya'), (49375, 'hur'), (49217, 'vår'), (48320, 'sätt'), (48156, 'dem'), (47637, 'får'), (47256, 'många'), (46133, 'mig'), (45685, 'förslag'), (44526, 'se'), (44352, 'år'), (44229, 'åtgärder'), (42694, 'särskilt'), (42685, 'sin'), (41823, 'efter')]\n"
     ]
    }
   ],
   "source": [
    "import string #to remove punctuations\n",
    "#reference: https://medium.com/@gulcanogundur/pyspark-word-count-b099106135a7 for punctuations and lambda use.\n",
    "\n",
    "def lowercase_split_map(rdd):\n",
    "    split_lines = rdd.flatMap(lambda line: line.lower().strip(string.punctuation).split(' '))\n",
    "    mapped = split_lines.filter(lambda x: x.isalpha()) \\\n",
    "                .map(lambda words: (words.strip(string.punctuation), 1), split_lines) \\\n",
    "                .reduceByKey(lambda a, b: a + b) \\\n",
    "                .sortByKey()\n",
    "    return mapped\n",
    "\n",
    "word_count_sv_en_en = lowercase_split_map(lines_sv_en_en)\n",
    "word_count_sv_en_en = word_count_sv_en_en.map(lambda x:(x[1],x[0]))\n",
    "\n",
    "#print(word_count_sv_en_en.sortByKey(False).take(100))\n",
    "\n",
    "\n",
    "word_count_sv_en_sv = lowercase_split_map(lines_sv_en_sv)\n",
    "word_count_sv_en_sv = word_count_sv_en_sv.map(lambda x:(x[1],x[0]))\n",
    "\n",
    "print(word_count_sv_en_sv.sortByKey(False).take(100))\n"
   ]
  },
  {
   "cell_type": "code",
   "execution_count": 10,
   "id": "global-tokyo",
   "metadata": {},
   "outputs": [
    {
     "name": "stdout",
     "output_type": "stream",
     "text": [
      "[(0, ('Resumption of the session', 'Återupptagande av sessionen')), (5, (\"Please rise, then, for this minute' s silence.\", 'Jag ber er resa er för en tyst minut.')), (10, (\"Would it be appropriate for you, Madam President, to write a letter to the Sri Lankan President expressing Parliament's regret at his and the other violent deaths in Sri Lanka and urging her to do everything she possibly can to seek a peaceful reconciliation to a very difficult situation?\", 'Skulle det vara möjligt för er, fru talman, att skriva ett brev till den srilankesiska presidenten i vilket parlamentets beklagande uttrycks över hans och de övriga brutala dödsfallen i Sri Lanka och uppmanar henne att göra allt som står i hennes makt för att få en fredlig lösning på en mycket komplicerad situation?')), (15, ('My question relates to something that will come up on Thursday and which I will then raise again.', 'Min fråga har att göra med något som kommer att behandlas på torsdag och som jag då kommer att ta upp igen.')), (20, ('That is precisely the time when you may, if you wish, raise this question, i.e. on Thursday prior to the start of the presentation of the report.', 'Det är faktiskt just vid det tillfället som ni, om ni vill, kan ta upp denna fråga, dvs. på torsdag innan betänkandet läggs fram.')), (25, ('Thank you, Mr Segni, I shall do so gladly.', 'Tack, herr Segni, det skall jag gärna göra.')), (30, ('Now, however, he is to go before the courts once more because the public prosecutor is appealing.', 'Nu är det emellertid så att han skall åtalas på nytt i och med att allmänne åklagaren överklagar.')), (35, ('But, Madam President, my personal request has not been met.', 'Men, fru talman, det som jag bad om har inte inträffat.')), (40, ('Mrs Lynne, you are quite right and I shall check whether this has actually not been done.', 'Fru Lynne! Ni har helt rätt och jag skall kontrollera om allt detta faktiskt inte har gjorts.')), (45, (\"The questions answered previously referred to Mrs de Palacio' s intervention, on another occasion, and not to these comments which appeared in the ABC newspaper on 18 November.\", 'De frågor som tidigare besvarats handlade om de Palacios inblandning i ett särskilt ärende, inte om de uttalanden som återgavs i dagstidningen ABC den 18 november i fjol.'))]\n"
     ]
    }
   ],
   "source": [
    "en_1 = lines_sv_en_en.zipWithIndex()\n",
    "en_2 = en_1.map(lambda x:(x[1],x[0]))\n",
    "\n",
    "sv_1 = lines_sv_en_sv.zipWithIndex()\n",
    "sv_2 = sv_1.map(lambda x:(x[1],x[0]))\n",
    "\n",
    "joined_en2_sv2 = en_2.join(sv_2)\n",
    "\n",
    "#print(sv_2.take(10))\n",
    "\n",
    "print(joined_en2_sv2.take(10))\n",
    "\n"
   ]
  },
  {
   "cell_type": "code",
   "execution_count": 11,
   "id": "indoor-consent",
   "metadata": {},
   "outputs": [],
   "source": [
    "#Filter to exclude line pairs that have an empty/missing “corresponding” sentence\n",
    "joined_rdd = joined_en2_sv2 #count: 186223\n",
    "joined_rdd = joined_rdd.filter(lambda x: (len(x[1][0].split()) != 0 )) #count:1850885\n",
    "joined_rdd_f1 = joined_rdd.filter(lambda x: (len(x[1][1].split()) != 0 )) #count:1848423\n"
   ]
  },
  {
   "cell_type": "code",
   "execution_count": 12,
   "id": "arabic-brick",
   "metadata": {},
   "outputs": [
    {
     "name": "stdout",
     "output_type": "stream",
     "text": [
      "35146\n",
      "9545\n",
      "[(1825, ('We await the outcome with great interest.', 'Vi väntar på resultaten med stort intresse.')), (2770, ('The Commission, like others, has urged dialogue.', 'Kommissionen har, liksom andra, uppmanat till dialog.')), (3345, ('This communication must contain a clear timetable.', 'Detta meddelande måste innehålla en klar tidtabell.')), (4005, ('The laws against racism must be harmonised.', 'Det krävs harmonisering av lagstiftningen mot rasism.')), (4640, ('It is also a matter of conviction.', 'Det är också en fråga om övertygelse.')), (5275, ('That is why he deserves special mention!', 'Därför vill jag här särskilt nämna det!')), (5760, ('This was an important consideration for us.', 'Detta var ett viktigt ställningstagande för oss.')), (6865, ('It has no right to do so.', 'Det tillkommer inte EU att göra så.')), (7755, ('The second subject is flexibility and simplification.', 'Den andra frågan gäller flexibilitet och förenkling.')), (9205, ('We have seen vote after vote lost.', 'Vi har sett omröstning efter omröstning förloras.'))]\n"
     ]
    }
   ],
   "source": [
    "#Filter to leave only pairs of sentences with a small number of words per sentence,\n",
    "joined_rdd_f2 = joined_rdd_f1.filter(lambda x: (len(x[1][0].split()) == 7)) #count with word count = 10 :47029, #count with word count = 5 :23483 #count with word count = 7 :35146\n",
    "print(joined_rdd_f2.count())\n",
    "\n",
    "#Filter to leave only pairs of sentences with the same number of words in each sentence.\n",
    "joined_rdd_f3 = joined_rdd_f2.filter(lambda x: (len(x[1][0].split()) == len(x[1][1].split()))) #count:9175, 8952, 9545 (selected)\n",
    "print(joined_rdd_f3.count())\n",
    "\n",
    "print(joined_rdd_f3.take(10))\n"
   ]
  },
  {
   "cell_type": "code",
   "execution_count": 13,
   "id": "separated-antarctica",
   "metadata": {},
   "outputs": [
    {
     "name": "stdout",
     "output_type": "stream",
     "text": [
      "[('We await the outcome with great interest.', 'Vi väntar på resultaten med stort intresse.'), ('The Commission, like others, has urged dialogue.', 'Kommissionen har, liksom andra, uppmanat till dialog.'), ('This communication must contain a clear timetable.', 'Detta meddelande måste innehålla en klar tidtabell.'), ('The laws against racism must be harmonised.', 'Det krävs harmonisering av lagstiftningen mot rasism.'), ('It is also a matter of conviction.', 'Det är också en fråga om övertygelse.'), ('That is why he deserves special mention!', 'Därför vill jag här särskilt nämna det!'), ('This was an important consideration for us.', 'Detta var ett viktigt ställningstagande för oss.'), ('It has no right to do so.', 'Det tillkommer inte EU att göra så.'), ('The second subject is flexibility and simplification.', 'Den andra frågan gäller flexibilitet och förenkling.'), ('We have seen vote after vote lost.', 'Vi har sett omröstning efter omröstning förloras.')]\n",
      "[(['We', 'await', 'the', 'outcome', 'with', 'great', 'interest.'], ['Vi', 'väntar', 'på', 'resultaten', 'med', 'stort', 'intresse.']), (['The', 'Commission,', 'like', 'others,', 'has', 'urged', 'dialogue.'], ['Kommissionen', 'har,', 'liksom', 'andra,', 'uppmanat', 'till', 'dialog.']), (['This', 'communication', 'must', 'contain', 'a', 'clear', 'timetable.'], ['Detta', 'meddelande', 'måste', 'innehålla', 'en', 'klar', 'tidtabell.']), (['The', 'laws', 'against', 'racism', 'must', 'be', 'harmonised.'], ['Det', 'krävs', 'harmonisering', 'av', 'lagstiftningen', 'mot', 'rasism.']), (['It', 'is', 'also', 'a', 'matter', 'of', 'conviction.'], ['Det', 'är', 'också', 'en', 'fråga', 'om', 'övertygelse.']), (['That', 'is', 'why', 'he', 'deserves', 'special', 'mention!'], ['Därför', 'vill', 'jag', 'här', 'särskilt', 'nämna', 'det!']), (['This', 'was', 'an', 'important', 'consideration', 'for', 'us.'], ['Detta', 'var', 'ett', 'viktigt', 'ställningstagande', 'för', 'oss.']), (['It', 'has', 'no', 'right', 'to', 'do', 'so.'], ['Det', 'tillkommer', 'inte', 'EU', 'att', 'göra', 'så.']), (['The', 'second', 'subject', 'is', 'flexibility', 'and', 'simplification.'], ['Den', 'andra', 'frågan', 'gäller', 'flexibilitet', 'och', 'förenkling.']), (['We', 'have', 'seen', 'vote', 'after', 'vote', 'lost.'], ['Vi', 'har', 'sett', 'omröstning', 'efter', 'omröstning', 'förloras.'])]\n"
     ]
    }
   ],
   "source": [
    "zipped_pair = joined_rdd_f3.map(lambda x:(x[1][0],x[1][1]))\n",
    "print(zipped_pair.take(10))\n",
    "\n",
    "zipped_pair_2 = zipped_pair.map(lambda line: (line[0].split(), line[1].split()))\n",
    "print(zipped_pair_2.take(10))\n",
    "\n",
    "\n",
    "\n"
   ]
  },
  {
   "cell_type": "code",
   "execution_count": 14,
   "id": "confident-mercy",
   "metadata": {},
   "outputs": [
    {
     "name": "stdout",
     "output_type": "stream",
     "text": [
      "[(['We', 'await', 'the', 'outcome', 'with', 'great', 'interest.'], ['Vi', 'väntar', 'på', 'resultaten', 'med', 'stort', 'intresse.']), (['The', 'Commission,', 'like', 'others,', 'has', 'urged', 'dialogue.'], ['Kommissionen', 'har,', 'liksom', 'andra,', 'uppmanat', 'till', 'dialog.']), (['This', 'communication', 'must', 'contain', 'a', 'clear', 'timetable.'], ['Detta', 'meddelande', 'måste', 'innehålla', 'en', 'klar', 'tidtabell.']), (['The', 'laws', 'against', 'racism', 'must', 'be', 'harmonised.'], ['Det', 'krävs', 'harmonisering', 'av', 'lagstiftningen', 'mot', 'rasism.']), (['It', 'is', 'also', 'a', 'matter', 'of', 'conviction.'], ['Det', 'är', 'också', 'en', 'fråga', 'om', 'övertygelse.']), (['That', 'is', 'why', 'he', 'deserves', 'special', 'mention!'], ['Därför', 'vill', 'jag', 'här', 'särskilt', 'nämna', 'det!']), (['This', 'was', 'an', 'important', 'consideration', 'for', 'us.'], ['Detta', 'var', 'ett', 'viktigt', 'ställningstagande', 'för', 'oss.']), (['It', 'has', 'no', 'right', 'to', 'do', 'so.'], ['Det', 'tillkommer', 'inte', 'EU', 'att', 'göra', 'så.']), (['The', 'second', 'subject', 'is', 'flexibility', 'and', 'simplification.'], ['Den', 'andra', 'frågan', 'gäller', 'flexibilitet', 'och', 'förenkling.']), (['We', 'have', 'seen', 'vote', 'after', 'vote', 'lost.'], ['Vi', 'har', 'sett', 'omröstning', 'efter', 'omröstning', 'förloras.'])]\n",
      "[(('We', 'Vi'), 1), (('await', 'väntar'), 1), (('the', 'på'), 1), (('outcome', 'resultaten'), 1), (('with', 'med'), 1), (('great', 'stort'), 1), (('The', 'Kommissionen'), 1), (('Commission,', 'har,'), 1), (('like', 'liksom'), 1), (('others,', 'andra,'), 1)]\n"
     ]
    }
   ],
   "source": [
    "#Checking how data looks on separate basis for creating lambda query\n",
    "zipped_pair_en = zipped_pair.map(lambda x:x[0].split())\n",
    "zipped_pair_sv = zipped_pair.map(lambda x:x[1].split())\n",
    "#print(zipped_pair_en.take(10))\n",
    "#print(zipped_pair_sv.take(10))\n",
    "\n",
    "#One way\n",
    "#zipped_pair_combine_1 = zipped_pair.map(lambda x: [(x[i].split(), x[i+1].split(), 1) for i in range(0, len(x) - 1)])\n",
    "#print(zipped_pair_combine_1.take(10))\n",
    "\n",
    "#Another way which is given as hint in assignment - Going with this\n",
    "zipped_pair_combine = zipped_pair_en.zip(zipped_pair_sv)\n",
    "\n",
    "print(zipped_pair_combine.take(10))\n",
    "\n",
    "\n",
    "zipped_pair_word_pair = zipped_pair_combine.flatMap(lambda x: [((x[0][i], x[1][i]), 1) for i in range(0, len(x[0]) - 1)])\n",
    "print(zipped_pair_word_pair.take(10))\n",
    "\n"
   ]
  },
  {
   "cell_type": "code",
   "execution_count": 15,
   "id": "facial-failure",
   "metadata": {},
   "outputs": [
    {
     "name": "stdout",
     "output_type": "stream",
     "text": [
      "[(1289, ('is', 'är')), (890, ('I', 'Jag')), (875, ('We', 'Vi')), (564, ('Question', 'Fråga')), (559, ('No', 'nr')), (545, ('and', 'och')), (517, ('by', 'från')), (513, ('a', 'en')), (469, ('not', 'inte')), (417, ('have', 'har')), (346, ('It', 'Det')), (339, ('a', 'ett')), (320, ('in', 'i')), (299, ('to', 'att')), (298, ('for', 'för')), (288, ('This', 'Detta')), (268, ('That', 'Det')), (267, ('must', 'måste')), (252, ('are', 'är')), (239, ('this', 'detta')), (233, ('we', 'vi')), (227, ('of', 'av')), (205, ('There', 'Det')), (180, ('has', 'har')), (178, ('very', 'mycket')), (165, ('that', 'att')), (162, ('be', 'vara')), (161, ('This', 'Det')), (159, ('on', 'på')), (158, ('will', 'att')), (155, ('can', 'kan')), (145, ('to', 'till')), (140, ('the', 'den')), (139, ('will', 'kommer')), (137, ('the', 'det')), (136, ('Let', 'Låt')), (133, ('The', 'Omröstningen')), (133, ('vote', 'kommer')), (129, ('place', 'rum')), (128, ('They', 'De')), (128, ('take', 'äga')), (126, ('with', 'med')), (124, ('this', 'denna')), (122, ('us', 'oss')), (120, ('an', 'en')), (115, ('The', 'Den')), (108, ('was', 'var')), (99, ('the', 'de')), (98, ('The', 'Det')), (98, ('it', 'det')), (97, ('of', 'om')), (96, ('That', 'Detta')), (96, ('what', 'vad')), (91, ('you', 'ni')), (90, ('also', 'också')), (90, ('I', 'jag')), (89, ('about', 'om')), (89, ('Mr', 'Herr')), (88, ('What', 'Vad')), (88, ('would', 'skulle')), (87, ('is', 'finns')), (87, ('me', 'mig')), (82, ('But', 'Men')), (82, ('two', 'två')), (80, ('that', 'det')), (79, ('be', 'att')), (77, ('need', 'behöver')), (77, ('You', 'Ni')), (75, ('these', 'dessa')), (74, ('therefore', 'därför')), (73, ('an', 'ett')), (72, ('should', 'bör')), (71, ('are', 'finns')), (68, ('the', 'till')), (66, ('is', 'det')), (65, ('more', 'mer')), (65, ('this', 'det')), (65, ('our', 'vårt')), (62, ('am', 'är')), (61, ('on', 'om')), (61, ('see', 'se')), (60, ('you', 'er')), (58, ('This', 'Denna')), (58, ('We', 'Det')), (58, ('second', 'andra')), (58, ('first', 'första')), (57, ('by', 'av')), (57, ('It', 'Den')), (55, ('that', 'detta')), (54, ('The', 'Nästa')), (54, ('the', 'är')), (54, ('President,', 'talman!')), (54, ('for', 'till')), (54, ('Mr', 'herr')), (54, ('next', 'punkt')), (53, ('of', 'på')), (53, ('of', 'för')), (52, ('in', 'på')), (52, ('do', 'göra')), (52, ('our', 'vår'))]\n"
     ]
    }
   ],
   "source": [
    "zipped_pair_word_pair_reducer = zipped_pair_word_pair.reduceByKey(lambda a, b: a + b)\n",
    "zipped_pair_word_pair_reducer_t = zipped_pair_word_pair_reducer.map(lambda x:(x[1],x[0]))\n",
    "print(zipped_pair_word_pair_reducer_t.sortByKey(False).take(100))\n"
   ]
  },
  {
   "cell_type": "code",
   "execution_count": null,
   "id": "peripheral-being",
   "metadata": {},
   "outputs": [],
   "source": []
  }
 ],
 "metadata": {
  "kernelspec": {
   "display_name": "Python 3",
   "language": "python",
   "name": "python3"
  },
  "language_info": {
   "codemirror_mode": {
    "name": "ipython",
    "version": 3
   },
   "file_extension": ".py",
   "mimetype": "text/x-python",
   "name": "python",
   "nbconvert_exporter": "python",
   "pygments_lexer": "ipython3",
   "version": "3.8.5"
  }
 },
 "nbformat": 4,
 "nbformat_minor": 5
}
