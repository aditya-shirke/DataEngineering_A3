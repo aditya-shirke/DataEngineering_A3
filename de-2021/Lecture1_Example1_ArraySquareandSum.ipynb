{
 "cells": [
  {
   "cell_type": "code",
   "execution_count": 1,
   "id": "becoming-ferry",
   "metadata": {},
   "outputs": [
    {
     "data": {
      "text/html": [
       "<style>.container { width:100% !important; }</style>"
      ],
      "text/plain": [
       "<IPython.core.display.HTML object>"
      ]
     },
     "metadata": {},
     "output_type": "display_data"
    }
   ],
   "source": [
    "from pyspark.sql import SparkSession\n",
    "from pyspark.sql.types import *\n",
    "import pandas\n",
    "import matplotlib\n",
    "from IPython.core.display import display, HTML\n",
    "display(HTML(\"<style>.container { width:100% !important; }</style>\"))\n",
    "\n",
    "spark_session = SparkSession\\\n",
    "        .builder\\\n",
    "        .master(\"spark://192.168.2.113:7077\") \\\n",
    "        .appName(\"AdityaShirke_A\")\\\n",
    "        .config(\"spark.dynamicAllocation.enabled\", True)\\\n",
    "        .config(\"spark.shuffle.service.enabled\", True)\\\n",
    "        .config(\"spark.dynamicAllocation.executorIdleTimeout\",\"30s\")\\\n",
    "        .config(\"spark.executor.cores\",2)\\\n",
    "        .config(\"spark.cores.max\",4)\\\n",
    "        .config(\"spark.driver.port\",9998)\\\n",
    "        .config(\"spark.blockManager.port\",10005)\\\n",
    "        .getOrCreate()"
   ]
  },
  {
   "cell_type": "code",
   "execution_count": 2,
   "id": "conceptual-ladder",
   "metadata": {},
   "outputs": [
    {
     "data": {
      "text/plain": [
       "1862234"
      ]
     },
     "execution_count": 2,
     "metadata": {},
     "output_type": "execute_result"
    }
   ],
   "source": [
    "sc = spark_session.sparkContext\n",
    "#A.1.1 Read the English transcripts with Spark, and count the number of lines.\n",
    "lines_sv_en_en = sc.textFile(\"hdfs://192.168.2.113:9000/europarl/europarl-v7.sv-en.en\")\n",
    "linecount_sv_en_en = lines_sv_en_en.count()\n",
    "linecount_sv_en_en"
   ]
  },
  {
   "cell_type": "code",
   "execution_count": 3,
   "id": "least-graphics",
   "metadata": {},
   "outputs": [
    {
     "name": "stdout",
     "output_type": "stream",
     "text": [
      "Verified: Line counts are the same for the two languages.\n"
     ]
    }
   ],
   "source": [
    "#A.1.2 Do the same with the other language (so that you have a separate lineage of RDDs for each).\n",
    "lines_sv_en_sv = sc.textFile(\"hdfs://192.168.2.113:9000/europarl/europarl-v7.sv-en.sv\").cache()\n",
    "linecount_nl_en_sv = lines_sv_en_sv.count()\n",
    "linecount_nl_en_sv\n",
    "\n",
    "#A.1.3 Verify that the line counts are the same for the two languages.\n",
    "if (linecount_sv_en_en == linecount_nl_en_sv):\n",
    "    print('Verified: Line counts are the same for the two languages.')"
   ]
  },
  {
   "cell_type": "code",
   "execution_count": 4,
   "id": "silver-newport",
   "metadata": {},
   "outputs": [
    {
     "data": {
      "text/plain": [
       "2"
      ]
     },
     "execution_count": 4,
     "metadata": {},
     "output_type": "execute_result"
    }
   ],
   "source": [
    "#A.1.4 Count the number of partitions.\n",
    "lines_sv_en_en.getNumPartitions()"
   ]
  },
  {
   "cell_type": "code",
   "execution_count": 5,
   "id": "increased-pennsylvania",
   "metadata": {},
   "outputs": [
    {
     "data": {
      "text/plain": [
       "3"
      ]
     },
     "execution_count": 5,
     "metadata": {},
     "output_type": "execute_result"
    }
   ],
   "source": [
    "#A.1.4 Count the number of partitions.\n",
    "lines_sv_en_sv.getNumPartitions()"
   ]
  },
  {
   "cell_type": "code",
   "execution_count": 6,
   "id": "reduced-reference",
   "metadata": {},
   "outputs": [
    {
     "data": {
      "text/plain": [
       "['Resumption of the session',\n",
       " 'I declare resumed the session of the European Parliament adjourned on Friday 17 December 1999, and I would like once again to wish you a happy new year in the hope that you enjoyed a pleasant festive period.',\n",
       " \"Although, as you will have seen, the dreaded 'millennium bug' failed to materialise, still the people in a number of countries suffered a series of natural disasters that truly were dreadful.\",\n",
       " 'You have requested a debate on this subject in the course of the next few days, during this part-session.',\n",
       " \"In the meantime, I should like to observe a minute' s silence, as a number of Members have requested, on behalf of all the victims concerned, particularly those of the terrible storms, in the various countries of the European Union.\",\n",
       " \"Please rise, then, for this minute' s silence.\",\n",
       " \"(The House rose and observed a minute' s silence)\",\n",
       " 'Madam President, on a point of order.',\n",
       " 'You will be aware from the press and television that there have been a number of bomb explosions and killings in Sri Lanka.',\n",
       " 'One of the people assassinated very recently in Sri Lanka was Mr Kumar Ponnambalam, who had visited the European Parliament just a few months ago.']"
      ]
     },
     "execution_count": 6,
     "metadata": {},
     "output_type": "execute_result"
    }
   ],
   "source": [
    "lines_sv_en_en.take(10)"
   ]
  },
  {
   "cell_type": "code",
   "execution_count": 7,
   "id": "latest-ghost",
   "metadata": {},
   "outputs": [
    {
     "name": "stdout",
     "output_type": "stream",
     "text": [
      "[['resumption', 'of', 'the', 'session'], ['i', 'declare', 'resumed', 'the', 'session', 'of', 'the', 'european', 'parliament', 'adjourned', 'on', 'friday', '17', 'december', '1999,', 'and', 'i', 'would', 'like', 'once', 'again', 'to', 'wish', 'you', 'a', 'happy', 'new', 'year', 'in', 'the', 'hope', 'that', 'you', 'enjoyed', 'a', 'pleasant', 'festive', 'period.'], ['although,', 'as', 'you', 'will', 'have', 'seen,', 'the', 'dreaded', \"'millennium\", \"bug'\", 'failed', 'to', 'materialise,', 'still', 'the', 'people', 'in', 'a', 'number', 'of', 'countries', 'suffered', 'a', 'series', 'of', 'natural', 'disasters', 'that', 'truly', 'were', 'dreadful.'], ['you', 'have', 'requested', 'a', 'debate', 'on', 'this', 'subject', 'in', 'the', 'course', 'of', 'the', 'next', 'few', 'days,', 'during', 'this', 'part-session.'], ['in', 'the', 'meantime,', 'i', 'should', 'like', 'to', 'observe', 'a', \"minute'\", 's', 'silence,', 'as', 'a', 'number', 'of', 'members', 'have', 'requested,', 'on', 'behalf', 'of', 'all', 'the', 'victims', 'concerned,', 'particularly', 'those', 'of', 'the', 'terrible', 'storms,', 'in', 'the', 'various', 'countries', 'of', 'the', 'european', 'union.'], ['please', 'rise,', 'then,', 'for', 'this', \"minute'\", 's', 'silence.'], ['(the', 'house', 'rose', 'and', 'observed', 'a', \"minute'\", 's', 'silence)'], ['madam', 'president,', 'on', 'a', 'point', 'of', 'order.'], ['you', 'will', 'be', 'aware', 'from', 'the', 'press', 'and', 'television', 'that', 'there', 'have', 'been', 'a', 'number', 'of', 'bomb', 'explosions', 'and', 'killings', 'in', 'sri', 'lanka.'], ['one', 'of', 'the', 'people', 'assassinated', 'very', 'recently', 'in', 'sri', 'lanka', 'was', 'mr', 'kumar', 'ponnambalam,', 'who', 'had', 'visited', 'the', 'european', 'parliament', 'just', 'a', 'few', 'months', 'ago.']]\n",
      "1862234\n",
      "[['återupptagande', 'av', 'sessionen'], ['jag', 'förklarar', 'europaparlamentets', 'session', 'återupptagen', 'efter', 'avbrottet', 'den', '17', 'december.', 'jag', 'vill', 'på', 'nytt', 'önska', 'er', 'ett', 'gott', 'nytt', 'år', 'och', 'jag', 'hoppas', 'att', 'ni', 'haft', 'en', 'trevlig', 'semester.'], ['som', 'ni', 'kunnat', 'konstatera', 'ägde', '\"den', 'stora', 'år', '2000-buggen\"', 'aldrig', 'rum.', 'däremot', 'har', 'invånarna', 'i', 'ett', 'antal', 'av', 'våra', 'medlemsländer', 'drabbats', 'av', 'naturkatastrofer', 'som', 'verkligen', 'varit', 'förskräckliga.'], ['ni', 'har', 'begärt', 'en', 'debatt', 'i', 'ämnet', 'under', 'sammanträdesperiodens', 'kommande', 'dagar.'], ['till', 'dess', 'vill', 'jag', 'att', 'vi,', 'som', 'ett', 'antal', 'kolleger', 'begärt,', 'håller', 'en', 'tyst', 'minut', 'för', 'offren', 'för', 'bl.a.', 'stormarna', 'i', 'de', 'länder', 'i', 'europeiska', 'unionen', 'som', 'drabbats.'], ['jag', 'ber', 'er', 'resa', 'er', 'för', 'en', 'tyst', 'minut.'], ['(parlamentet', 'höll', 'en', 'tyst', 'minut.)'], ['fru', 'talman!', 'det', 'gäller', 'en', 'ordningsfråga.'], ['ni', 'känner', 'till', 'från', 'media', 'att', 'det', 'skett', 'en', 'rad', 'bombexplosioner', 'och', 'mord', 'i', 'sri', 'lanka.'], ['en', 'av', 'de', 'personer', 'som', 'mycket', 'nyligen', 'mördades', 'i', 'sri', 'lanka', 'var', 'kumar', 'ponnambalam,', 'som', 'besökte', 'europaparlamentet', 'för', 'bara', 'några', 'månader', 'sedan.']]\n",
      "1862234\n",
      "Verified: Line counts still match after the pre-processing.\n"
     ]
    }
   ],
   "source": [
    "#A2.1 function to Pre-process the text from both RDDs by doing the following: Lowercase the text and Tokenize the text (split on space)\n",
    "def lowercase_split(rdd):\n",
    "    return rdd.map(lambda line: line.lower().split(' '))\n",
    "\n",
    "#A.2.2 Inspect 10 entries from each of your RDDs to verify your pre-processing.\n",
    "preprocessed_text_sv_en_en = lowercase_split(lines_sv_en_en)\n",
    "print(preprocessed_text_sv_en_en.take(10))\n",
    "print(preprocessed_text_sv_en_en.count())\n",
    "\n",
    "#A.2.2 Inspect 10 entries from each of your RDDs to verify your pre-processing.\n",
    "preprocessed_text_sv_en_sv = lowercase_split(lines_sv_en_sv)\n",
    "print(preprocessed_text_sv_en_sv.take(10))\n",
    "print(preprocessed_text_sv_en_sv.count())\n",
    "\n",
    "#A.2.3 Verify that the line counts still match after the pre-processing.\n",
    "if (preprocessed_text_sv_en_en.count() == preprocessed_text_sv_en_sv.count()):\n",
    "    print('Verified: Line counts still match after the pre-processing.')"
   ]
  },
  {
   "cell_type": "code",
   "execution_count": 8,
   "id": "lucky-tulsa",
   "metadata": {},
   "outputs": [
    {
     "name": "stdout",
     "output_type": "stream",
     "text": [
      "[(3502214, 'the'), (1660403, 'of'), (1541401, 'to'), (1288421, 'and'), (1087073, 'in'), (805133, 'that'), (773554, 'a'), (759645, 'is'), (536037, 'for'), (522932, 'we')]\n",
      "[(1706328, 'att'), (1344865, 'och'), (1052440, 'i'), (942048, 'det'), (913312, 'som'), (912272, 'för'), (739577, 'av'), (696798, 'är'), (620508, 'en'), (540272, 'vi')]\n"
     ]
    }
   ],
   "source": [
    "#A.3.1 Use Spark to compute the 10 most frequently according words in the English language corpus. Repeat for the other language.\n",
    "import string #to remove punctuations\n",
    "#reference: https://medium.com/@gulcanogundur/pyspark-word-count-b099106135a7 for punctuations and lambda use. We can still use manual method of defining regex which is just the same regex we have in string.punctuations.\n",
    "\n",
    "def lowercase_split_map(rdd):\n",
    "    split_lines = rdd.flatMap(lambda line: line.lower().strip(string.punctuation).split(' '))\n",
    "    mapped = split_lines.filter(lambda x: x.isalpha()) \\\n",
    "                .map(lambda words: (words.strip(string.punctuation), 1), split_lines) \\\n",
    "                .reduceByKey(lambda a, b: a + b) \\\n",
    "                .sortByKey()\n",
    "    return mapped\n",
    "\n",
    "word_count_sv_en_en = lowercase_split_map(lines_sv_en_en)\n",
    "word_count_sv_en_en = word_count_sv_en_en.map(lambda x:(x[1],x[0]))\n",
    "#A.3.2 Verify that your results are reasonable.\n",
    "print(word_count_sv_en_en.sortByKey(False).take(10))\n",
    "\n",
    "word_count_sv_en_sv = lowercase_split_map(lines_sv_en_sv)\n",
    "word_count_sv_en_sv = word_count_sv_en_sv.map(lambda x:(x[1],x[0]))\n",
    "#A.3.2 Verify that your results are reasonable.\n",
    "print(word_count_sv_en_sv.sortByKey(False).take(10))\n"
   ]
  },
  {
   "cell_type": "code",
   "execution_count": 9,
   "id": "peripheral-geneva",
   "metadata": {},
   "outputs": [
    {
     "name": "stdout",
     "output_type": "stream",
     "text": [
      "[(0, ('Resumption of the session', 'Återupptagande av sessionen')), (5, (\"Please rise, then, for this minute' s silence.\", 'Jag ber er resa er för en tyst minut.')), (10, (\"Would it be appropriate for you, Madam President, to write a letter to the Sri Lankan President expressing Parliament's regret at his and the other violent deaths in Sri Lanka and urging her to do everything she possibly can to seek a peaceful reconciliation to a very difficult situation?\", 'Skulle det vara möjligt för er, fru talman, att skriva ett brev till den srilankesiska presidenten i vilket parlamentets beklagande uttrycks över hans och de övriga brutala dödsfallen i Sri Lanka och uppmanar henne att göra allt som står i hennes makt för att få en fredlig lösning på en mycket komplicerad situation?')), (15, ('My question relates to something that will come up on Thursday and which I will then raise again.', 'Min fråga har att göra med något som kommer att behandlas på torsdag och som jag då kommer att ta upp igen.')), (20, ('That is precisely the time when you may, if you wish, raise this question, i.e. on Thursday prior to the start of the presentation of the report.', 'Det är faktiskt just vid det tillfället som ni, om ni vill, kan ta upp denna fråga, dvs. på torsdag innan betänkandet läggs fram.')), (25, ('Thank you, Mr Segni, I shall do so gladly.', 'Tack, herr Segni, det skall jag gärna göra.')), (30, ('Now, however, he is to go before the courts once more because the public prosecutor is appealing.', 'Nu är det emellertid så att han skall åtalas på nytt i och med att allmänne åklagaren överklagar.')), (35, ('But, Madam President, my personal request has not been met.', 'Men, fru talman, det som jag bad om har inte inträffat.')), (40, ('Mrs Lynne, you are quite right and I shall check whether this has actually not been done.', 'Fru Lynne! Ni har helt rätt och jag skall kontrollera om allt detta faktiskt inte har gjorts.')), (45, (\"The questions answered previously referred to Mrs de Palacio' s intervention, on another occasion, and not to these comments which appeared in the ABC newspaper on 18 November.\", 'De frågor som tidigare besvarats handlade om de Palacios inblandning i ett särskilt ärende, inte om de uttalanden som återgavs i dagstidningen ABC den 18 november i fjol.'))]\n"
     ]
    }
   ],
   "source": [
    "#Question A.4\n",
    "#A.4.1 Use this parallel corpus to mine some translations in the form of word pairs, for the two\n",
    "#languages. Do this by pairing words found on short lines with the same number of words\n",
    "#respectively. We (incorrectly) assume the words stay in the same order when translated.\n",
    "\n",
    "#1. Key the lines by their line number (hint: ZipWithIndex()).\n",
    "en_1 = lines_sv_en_en.zipWithIndex()\n",
    "sv_1 = lines_sv_en_sv.zipWithIndex()\n",
    "\n",
    "#2. Swap the key and value - so that the line number is the key.\n",
    "en_2 = en_1.map(lambda x:(x[1],x[0]))\n",
    "sv_2 = sv_1.map(lambda x:(x[1],x[0]))\n",
    "\n",
    "#3. Join the two RDDs together according to the line number key, so you have pairs of matching lines.\n",
    "joined_en2_sv2 = en_2.join(sv_2)\n",
    "\n",
    "#print(sv_2.take(10))\n",
    "\n",
    "print(joined_en2_sv2.take(10))\n",
    "\n"
   ]
  },
  {
   "cell_type": "code",
   "execution_count": 10,
   "id": "permanent-catch",
   "metadata": {},
   "outputs": [],
   "source": [
    "#4. Filter to exclude line pairs that have an empty/missing “corresponding” sentence\n",
    "joined_rdd = joined_en2_sv2 #count: 186223\n",
    "joined_rdd = joined_rdd.filter(lambda x: (len(x[1][0].split()) != 0 )) #count:1850885\n",
    "joined_rdd_f1 = joined_rdd.filter(lambda x: (len(x[1][1].split()) != 0 )) #count:1848423\n"
   ]
  },
  {
   "cell_type": "code",
   "execution_count": 11,
   "id": "reduced-volleyball",
   "metadata": {},
   "outputs": [
    {
     "name": "stdout",
     "output_type": "stream",
     "text": [
      "35146\n",
      "9545\n",
      "[(1825, ('We await the outcome with great interest.', 'Vi väntar på resultaten med stort intresse.')), (2770, ('The Commission, like others, has urged dialogue.', 'Kommissionen har, liksom andra, uppmanat till dialog.')), (3345, ('This communication must contain a clear timetable.', 'Detta meddelande måste innehålla en klar tidtabell.')), (4005, ('The laws against racism must be harmonised.', 'Det krävs harmonisering av lagstiftningen mot rasism.')), (4640, ('It is also a matter of conviction.', 'Det är också en fråga om övertygelse.')), (5275, ('That is why he deserves special mention!', 'Därför vill jag här särskilt nämna det!')), (5760, ('This was an important consideration for us.', 'Detta var ett viktigt ställningstagande för oss.')), (6865, ('It has no right to do so.', 'Det tillkommer inte EU att göra så.')), (7755, ('The second subject is flexibility and simplification.', 'Den andra frågan gäller flexibilitet och förenkling.')), (9205, ('We have seen vote after vote lost.', 'Vi har sett omröstning efter omröstning förloras.'))]\n"
     ]
    }
   ],
   "source": [
    "#5. Filter to leave only pairs of sentences with a small number of words per sentence.\n",
    "joined_rdd_f2 = joined_rdd_f1.filter(lambda x: (len(x[1][0].split()) == 7)) #count with word count = 10 :47029, #count with word count = 5 :23483 #count with word count = 7 :35146\n",
    "print(joined_rdd_f2.count())\n",
    "\n",
    "#6. Filter to leave only pairs of sentences with the same number of words in each sentence.\n",
    "joined_rdd_f3 = joined_rdd_f2.filter(lambda x: (len(x[1][0].split()) == len(x[1][1].split()))) #count with word count = 10 :9175, #count with word count = 5 :8952, #count with word count = 7 :9545 (selected)\n",
    "print(joined_rdd_f3.count())\n",
    "\n",
    "print(joined_rdd_f3.take(10))\n"
   ]
  },
  {
   "cell_type": "code",
   "execution_count": 12,
   "id": "skilled-blade",
   "metadata": {},
   "outputs": [
    {
     "name": "stdout",
     "output_type": "stream",
     "text": [
      "[(('We', 'Vi'), 1), (('await', 'väntar'), 1), (('the', 'på'), 1), (('outcome', 'resultaten'), 1), (('with', 'med'), 1), (('great', 'stort'), 1), (('The', 'Kommissionen'), 1), (('Commission,', 'har,'), 1), (('like', 'liksom'), 1), (('others,', 'andra,'), 1)]\n"
     ]
    }
   ],
   "source": [
    "#7. For each sentence pair, map so that you pair each (in order) word in the two\n",
    "#sentences. We no longer need the line numbers. (hint: use python’s built in zip() function)\n",
    "zipped_pair = joined_rdd_f3.map(lambda x:(x[1][0],x[1][1]))\n",
    "#print(zipped_pair.take(10))\n",
    "\n",
    "zipped_pair_2 = zipped_pair.map(lambda line: (line[0].split(), line[1].split()))\n",
    "#print(zipped_pair_2.take(10))\n",
    "\n",
    "#Checking how data looks on separate basis for creating lambda query\n",
    "zipped_pair_en = zipped_pair.map(lambda x:x[0].split())\n",
    "zipped_pair_sv = zipped_pair.map(lambda x:x[1].split())\n",
    "#print(zipped_pair_en.take(10))\n",
    "#print(zipped_pair_sv.take(10))\n",
    "\n",
    "#One way\n",
    "#zipped_pair_combine_1 = zipped_pair.map(lambda x: [(x[i].split(), x[i+1].split(), 1) for i in range(0, len(x) - 1)])\n",
    "#print(zipped_pair_combine_1.take(10))\n",
    "\n",
    "#Another way which is given as hint in assignment - Going with this\n",
    "zipped_pair_combine = zipped_pair_en.zip(zipped_pair_sv)\n",
    "#print(zipped_pair_combine.take(10))\n",
    "\n",
    "zipped_pair_word_pair = zipped_pair_combine.flatMap(lambda x: [((x[0][i], x[1][i]), 1) for i in range(0, len(x[0]) - 1)])\n",
    "print(zipped_pair_word_pair.take(10))\n",
    "\n"
   ]
  },
  {
   "cell_type": "code",
   "execution_count": 13,
   "id": "european-assessment",
   "metadata": {},
   "outputs": [
    {
     "name": "stdout",
     "output_type": "stream",
     "text": [
      "[(1289, ('is', 'är')), (890, ('I', 'Jag')), (875, ('We', 'Vi')), (564, ('Question', 'Fråga')), (559, ('No', 'nr')), (545, ('and', 'och')), (517, ('by', 'från')), (513, ('a', 'en')), (469, ('not', 'inte')), (417, ('have', 'har')), (346, ('It', 'Det')), (339, ('a', 'ett')), (320, ('in', 'i')), (299, ('to', 'att')), (298, ('for', 'för')), (288, ('This', 'Detta')), (268, ('That', 'Det')), (267, ('must', 'måste')), (252, ('are', 'är')), (239, ('this', 'detta'))]\n"
     ]
    }
   ],
   "source": [
    "#8. Use reduce to count the number of occurrences of the word-translation-pairs.\n",
    "zipped_pair_word_pair_reducer = zipped_pair_word_pair.reduceByKey(lambda a, b: a + b)\n",
    "zipped_pair_word_pair_reducer_t = zipped_pair_word_pair_reducer.map(lambda x:(x[1],x[0]))\n",
    "\n",
    "#9. Print some of the most frequently occurring pairs of words.\n",
    "print(zipped_pair_word_pair_reducer_t.sortByKey(False).take(20))\n",
    "\n",
    "#Do your translations seem reasonable? -> Translation seems reasonable most of the times.\n"
   ]
  },
  {
   "cell_type": "code",
   "execution_count": null,
   "id": "tight-scroll",
   "metadata": {},
   "outputs": [],
   "source": []
  }
 ],
 "metadata": {
  "kernelspec": {
   "display_name": "Python 3",
   "language": "python",
   "name": "python3"
  },
  "language_info": {
   "codemirror_mode": {
    "name": "ipython",
    "version": 3
   },
   "file_extension": ".py",
   "mimetype": "text/x-python",
   "name": "python",
   "nbconvert_exporter": "python",
   "pygments_lexer": "ipython3",
   "version": "3.8.5"
  }
 },
 "nbformat": 4,
 "nbformat_minor": 5
}
